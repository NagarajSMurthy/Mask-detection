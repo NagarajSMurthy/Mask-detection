{
 "cells": [
  {
   "cell_type": "code",
   "execution_count": 13,
   "metadata": {},
   "outputs": [],
   "source": [
    "import numpy as np\n",
    "import pandas as pd"
   ]
  },
  {
   "cell_type": "code",
   "execution_count": 14,
   "metadata": {},
   "outputs": [],
   "source": [
    "import cv2\n",
    "import os"
   ]
  },
  {
   "cell_type": "code",
   "execution_count": 15,
   "metadata": {},
   "outputs": [],
   "source": [
    "import matplotlib.pyplot as plt\n",
    "%matplotlib inline"
   ]
  },
  {
   "cell_type": "code",
   "execution_count": 16,
   "metadata": {},
   "outputs": [],
   "source": [
    "import torch\n",
    "from torch import nn, optim\n",
    "import torchvision\n",
    "from torchvision import transforms,datasets\n",
    "from torch.utils.data import DataLoader, Dataset, random_split\n",
    "import torch.nn.functional as F\n",
    "import pytorch_lightning as pl\n",
    "from argparse import ArgumentParser\n",
    "from pytorch_lightning.callbacks import ModelCheckpoint"
   ]
  },
  {
   "cell_type": "code",
   "execution_count": 17,
   "metadata": {},
   "outputs": [],
   "source": [
    "root = 'D:/Projects/Face recognition/face_mask_data/data/'"
   ]
  },
  {
   "cell_type": "code",
   "execution_count": 19,
   "metadata": {},
   "outputs": [],
   "source": [
    "class LightningMaskDetector(pl.LightningModule):\n",
    "    \n",
    "    def __init__(self):\n",
    "        super(LightningMaskDetector,self).__init__()\n",
    "        \n",
    "        #self.resnet = torchvision.models.resnet18(pretrained=True) \n",
    "        #self.resnet.fc = nn.Linear(512,128)\n",
    "        self.dropout = nn.Dropout(p=0.3)\n",
    "        self.network = torchvision.models.mobilenet_v2(pretrained=True)\n",
    "        child_counter = 0\n",
    "        for child in self.network.children():\n",
    "            for param in child.parameters():\n",
    "                param.requires_grad = False\n",
    "        self.network.classifier = torch.nn.Sequential(nn.Linear(1280,256),\n",
    "                                              nn.Tanh(),\n",
    "                                              nn.Dropout(p=0.25),\n",
    "                                              nn.Linear(256,2),\n",
    "                                              nn.LogSoftmax())\n",
    "        \n",
    "    def forward(self,x):\n",
    "\n",
    "        x = self.network(x)\n",
    "\n",
    "        return x\n",
    "    \n",
    "    '''\n",
    "    @staticmethod\n",
    "    def add_model_specific_args(parent_parser):\n",
    "        parser = ArgumentParser(parents=[parent_parser], add_help=False)\n",
    "        parser.add_argument('--batch_size', type=int, default=64)\n",
    "        parser.add_argument('--learning_rate', type=float, default=0.002)\n",
    "        return parser'''\n",
    "    \n",
    "    def prepare_data(self):\n",
    "        \n",
    "        transform = transforms.Compose([transforms.ToTensor()])\n",
    "        train_transform = transforms.Compose([transforms.RandomGrayscale(),\n",
    "                                transforms.RandomHorizontalFlip(),\n",
    "                                transforms.ColorJitter(brightness=(0.5,1.2)),\n",
    "                                transforms.ToTensor()\n",
    "                               ])\n",
    "        trainset = datasets.ImageFolder(root+'train',transform=train_transform)\n",
    "        self.testset = datasets.ImageFolder(root+'test',transform=transform)\n",
    "        self.trainset, self.validset = random_split(trainset,[1700,207])\n",
    "        \n",
    "    def train_dataloader(self):\n",
    "        \n",
    "        trainloader = DataLoader(self.trainset,batch_size=8)\n",
    "        return trainloader\n",
    "    \n",
    "    def val_dataloader(self):\n",
    "        \n",
    "        validloader = DataLoader(self.validset,batch_size=8)\n",
    "        return validloader\n",
    "        \n",
    "    def test_dataloader(self):\n",
    "        \n",
    "        testloader = DataLoader(self.testset,batch_size=8)\n",
    "        return testloader\n",
    "    \n",
    "    def configure_optimizers(self):\n",
    "        \n",
    "        optimizer = optim.Adam(self.parameters(),lr = 0.0001)\n",
    "        return optimizer\n",
    "    \n",
    "    def nllloss(self,logits,labels):\n",
    "        \n",
    "        return F.nll_loss(logits, labels)\n",
    "    \n",
    "    def training_step(self,batch,batch_idx):\n",
    "        \n",
    "        x, y = batch\n",
    "        logits = self.forward(x)\n",
    "        loss = self.nllloss(logits,y)\n",
    "        \n",
    "        logs = {'train_loss':loss}\n",
    "        output = {'loss':loss, 'log':logs}\n",
    "        return output\n",
    "        #return loss\n",
    "        \n",
    "    def validation_step(self,batch,batch_idx):\n",
    "        x, y = batch\n",
    "        logits = self.forward(x)\n",
    "        loss = self.nllloss(logits,y)\n",
    "        \n",
    "        output = {'val_loss':loss}\n",
    "        return output\n",
    "    \n",
    "    def validation_epoch_end(self, outputs):\n",
    "        \n",
    "        avg_loss = torch.stack([x['val_loss'] for x in outputs]).mean()\n",
    "        tensorboard_logs = {'val_loss': avg_loss}\n",
    "        output = {'avg_val_loss': avg_loss, 'log': tensorboard_logs}\n",
    "        return output\n",
    "    \n",
    "    def test_step(self, batch, batch_idx):\n",
    "        x, y = batch\n",
    "        logits = self.forward(x)\n",
    "        loss = self.nllloss(logits, y)\n",
    "        return {'test_loss': loss}\n",
    "        #return loss\n",
    "\n",
    "    def test_epoch_end(self, outputs):\n",
    "        avg_loss = torch.stack([x['test_loss'] for x in outputs]).mean()\n",
    "        tensorboard_logs = {'test_loss': avg_loss}\n",
    "        return {'test_loss': avg_loss, 'log': tensorboard_logs}\n",
    "        #return avg_loss\n"
   ]
  },
  {
   "cell_type": "code",
   "execution_count": 20,
   "metadata": {},
   "outputs": [],
   "source": [
    "class print_loss(pl.callbacks.Callback):\n",
    "    \n",
    "    def on_init_start(self,trainer):\n",
    "        print('Starting to init trainer')\n",
    "        \n",
    "    def on_init_end(self,trainer):\n",
    "        print('trainer is init now')\n",
    "        \n",
    "    def on_epoch_start(self, trainer, pl_module):\n",
    "        print('Started training')\n",
    "        \n",
    "    def on_validation_end(self, trainer, pl_module):\n",
    "        out = trainer.progress_bar_dict['loss']\n",
    "        #print(out)\n",
    "        #loss = trainer.output['avg_val_loss']\n",
    "        #print(trainer.output['avg_val_loss'])\n",
    "        print(f\"Validation is completed. Validation loss is {out}\")\n",
    "\n",
    "        \n",
    "    def on_train_end(self, trainer, pl_module):\n",
    "        #print('Train loss:',self.outputs['loss'])\n",
    "        loss = trainer.progress_bar_dict['loss']\n",
    "        print(trainer.callback_metrics)\n",
    "        print(f\"Training is done. Train loss: {loss}\")\n",
    "        "
   ]
  },
  {
   "cell_type": "code",
   "execution_count": 22,
   "metadata": {},
   "outputs": [],
   "source": [
    "checkpoint_callback = ModelCheckpoint(filepath='D:/Projects/Face recognition/model_{epoch:02d}-{val_loss:.2f}',\n",
    "                                      save_weights_only=False,\n",
    "                                      save_top_k=2)"
   ]
  },
  {
   "cell_type": "code",
   "execution_count": 23,
   "metadata": {},
   "outputs": [],
   "source": [
    "callbacks = [print_loss()]"
   ]
  },
  {
   "cell_type": "markdown",
   "metadata": {},
   "source": [
    "### Training and validating"
   ]
  },
  {
   "cell_type": "code",
   "execution_count": 24,
   "metadata": {},
   "outputs": [
    {
     "name": "stderr",
     "output_type": "stream",
     "text": [
      "GPU available: True, used: True\n",
      "No environment variable for node rank defined. Set as 0.\n",
      "CUDA_VISIBLE_DEVICES: [0]\n"
     ]
    },
    {
     "name": "stdout",
     "output_type": "stream",
     "text": [
      "Starting to init trainer\n",
      "trainer is init now\n"
     ]
    },
    {
     "name": "stderr",
     "output_type": "stream",
     "text": [
      "\n",
      "    | Name                         | Type             | Params\n",
      "--------------------------------------------------------------\n",
      "0   | dropout                      | Dropout          | 0     \n",
      "1   | network                      | MobileNetV2      | 2 M   \n",
      "2   | network.features             | Sequential       | 2 M   \n",
      "3   | network.features.0           | ConvBNReLU       | 928   \n",
      "4   | network.features.0.0         | Conv2d           | 864   \n",
      "5   | network.features.0.1         | BatchNorm2d      | 64    \n",
      "6   | network.features.0.2         | ReLU6            | 0     \n",
      "7   | network.features.1           | InvertedResidual | 896   \n",
      "8   | network.features.1.conv      | Sequential       | 896   \n",
      "9   | network.features.1.conv.0    | ConvBNReLU       | 352   \n",
      "10  | network.features.1.conv.0.0  | Conv2d           | 288   \n",
      "11  | network.features.1.conv.0.1  | BatchNorm2d      | 64    \n",
      "12  | network.features.1.conv.0.2  | ReLU6            | 0     \n",
      "13  | network.features.1.conv.1    | Conv2d           | 512   \n",
      "14  | network.features.1.conv.2    | BatchNorm2d      | 32    \n",
      "15  | network.features.2           | InvertedResidual | 5 K   \n",
      "16  | network.features.2.conv      | Sequential       | 5 K   \n",
      "17  | network.features.2.conv.0    | ConvBNReLU       | 1 K   \n",
      "18  | network.features.2.conv.0.0  | Conv2d           | 1 K   \n",
      "19  | network.features.2.conv.0.1  | BatchNorm2d      | 192   \n",
      "20  | network.features.2.conv.0.2  | ReLU6            | 0     \n",
      "21  | network.features.2.conv.1    | ConvBNReLU       | 1 K   \n",
      "22  | network.features.2.conv.1.0  | Conv2d           | 864   \n",
      "23  | network.features.2.conv.1.1  | BatchNorm2d      | 192   \n",
      "24  | network.features.2.conv.1.2  | ReLU6            | 0     \n",
      "25  | network.features.2.conv.2    | Conv2d           | 2 K   \n",
      "26  | network.features.2.conv.3    | BatchNorm2d      | 48    \n",
      "27  | network.features.3           | InvertedResidual | 8 K   \n",
      "28  | network.features.3.conv      | Sequential       | 8 K   \n",
      "29  | network.features.3.conv.0    | ConvBNReLU       | 3 K   \n",
      "30  | network.features.3.conv.0.0  | Conv2d           | 3 K   \n",
      "31  | network.features.3.conv.0.1  | BatchNorm2d      | 288   \n",
      "32  | network.features.3.conv.0.2  | ReLU6            | 0     \n",
      "33  | network.features.3.conv.1    | ConvBNReLU       | 1 K   \n",
      "34  | network.features.3.conv.1.0  | Conv2d           | 1 K   \n",
      "35  | network.features.3.conv.1.1  | BatchNorm2d      | 288   \n",
      "36  | network.features.3.conv.1.2  | ReLU6            | 0     \n",
      "37  | network.features.3.conv.2    | Conv2d           | 3 K   \n",
      "38  | network.features.3.conv.3    | BatchNorm2d      | 48    \n",
      "39  | network.features.4           | InvertedResidual | 10 K  \n",
      "40  | network.features.4.conv      | Sequential       | 10 K  \n",
      "41  | network.features.4.conv.0    | ConvBNReLU       | 3 K   \n",
      "42  | network.features.4.conv.0.0  | Conv2d           | 3 K   \n",
      "43  | network.features.4.conv.0.1  | BatchNorm2d      | 288   \n",
      "44  | network.features.4.conv.0.2  | ReLU6            | 0     \n",
      "45  | network.features.4.conv.1    | ConvBNReLU       | 1 K   \n",
      "46  | network.features.4.conv.1.0  | Conv2d           | 1 K   \n",
      "47  | network.features.4.conv.1.1  | BatchNorm2d      | 288   \n",
      "48  | network.features.4.conv.1.2  | ReLU6            | 0     \n",
      "49  | network.features.4.conv.2    | Conv2d           | 4 K   \n",
      "50  | network.features.4.conv.3    | BatchNorm2d      | 64    \n",
      "51  | network.features.5           | InvertedResidual | 14 K  \n",
      "52  | network.features.5.conv      | Sequential       | 14 K  \n",
      "53  | network.features.5.conv.0    | ConvBNReLU       | 6 K   \n",
      "54  | network.features.5.conv.0.0  | Conv2d           | 6 K   \n",
      "55  | network.features.5.conv.0.1  | BatchNorm2d      | 384   \n",
      "56  | network.features.5.conv.0.2  | ReLU6            | 0     \n",
      "57  | network.features.5.conv.1    | ConvBNReLU       | 2 K   \n",
      "58  | network.features.5.conv.1.0  | Conv2d           | 1 K   \n",
      "59  | network.features.5.conv.1.1  | BatchNorm2d      | 384   \n",
      "60  | network.features.5.conv.1.2  | ReLU6            | 0     \n",
      "61  | network.features.5.conv.2    | Conv2d           | 6 K   \n",
      "62  | network.features.5.conv.3    | BatchNorm2d      | 64    \n",
      "63  | network.features.6           | InvertedResidual | 14 K  \n",
      "64  | network.features.6.conv      | Sequential       | 14 K  \n",
      "65  | network.features.6.conv.0    | ConvBNReLU       | 6 K   \n",
      "66  | network.features.6.conv.0.0  | Conv2d           | 6 K   \n",
      "67  | network.features.6.conv.0.1  | BatchNorm2d      | 384   \n",
      "68  | network.features.6.conv.0.2  | ReLU6            | 0     \n",
      "69  | network.features.6.conv.1    | ConvBNReLU       | 2 K   \n",
      "70  | network.features.6.conv.1.0  | Conv2d           | 1 K   \n",
      "71  | network.features.6.conv.1.1  | BatchNorm2d      | 384   \n",
      "72  | network.features.6.conv.1.2  | ReLU6            | 0     \n",
      "73  | network.features.6.conv.2    | Conv2d           | 6 K   \n",
      "74  | network.features.6.conv.3    | BatchNorm2d      | 64    \n",
      "75  | network.features.7           | InvertedResidual | 21 K  \n",
      "76  | network.features.7.conv      | Sequential       | 21 K  \n",
      "77  | network.features.7.conv.0    | ConvBNReLU       | 6 K   \n",
      "78  | network.features.7.conv.0.0  | Conv2d           | 6 K   \n",
      "79  | network.features.7.conv.0.1  | BatchNorm2d      | 384   \n",
      "80  | network.features.7.conv.0.2  | ReLU6            | 0     \n",
      "81  | network.features.7.conv.1    | ConvBNReLU       | 2 K   \n",
      "82  | network.features.7.conv.1.0  | Conv2d           | 1 K   \n",
      "83  | network.features.7.conv.1.1  | BatchNorm2d      | 384   \n",
      "84  | network.features.7.conv.1.2  | ReLU6            | 0     \n",
      "85  | network.features.7.conv.2    | Conv2d           | 12 K  \n",
      "86  | network.features.7.conv.3    | BatchNorm2d      | 128   \n",
      "87  | network.features.8           | InvertedResidual | 54 K  \n",
      "88  | network.features.8.conv      | Sequential       | 54 K  \n",
      "89  | network.features.8.conv.0    | ConvBNReLU       | 25 K  \n",
      "90  | network.features.8.conv.0.0  | Conv2d           | 24 K  \n",
      "91  | network.features.8.conv.0.1  | BatchNorm2d      | 768   \n",
      "92  | network.features.8.conv.0.2  | ReLU6            | 0     \n",
      "93  | network.features.8.conv.1    | ConvBNReLU       | 4 K   \n",
      "94  | network.features.8.conv.1.0  | Conv2d           | 3 K   \n",
      "95  | network.features.8.conv.1.1  | BatchNorm2d      | 768   \n",
      "96  | network.features.8.conv.1.2  | ReLU6            | 0     \n",
      "97  | network.features.8.conv.2    | Conv2d           | 24 K  \n",
      "98  | network.features.8.conv.3    | BatchNorm2d      | 128   \n",
      "99  | network.features.9           | InvertedResidual | 54 K  \n",
      "100 | network.features.9.conv      | Sequential       | 54 K  \n",
      "101 | network.features.9.conv.0    | ConvBNReLU       | 25 K  \n",
      "102 | network.features.9.conv.0.0  | Conv2d           | 24 K  \n",
      "103 | network.features.9.conv.0.1  | BatchNorm2d      | 768   \n",
      "104 | network.features.9.conv.0.2  | ReLU6            | 0     \n",
      "105 | network.features.9.conv.1    | ConvBNReLU       | 4 K   \n",
      "106 | network.features.9.conv.1.0  | Conv2d           | 3 K   \n",
      "107 | network.features.9.conv.1.1  | BatchNorm2d      | 768   \n",
      "108 | network.features.9.conv.1.2  | ReLU6            | 0     \n",
      "109 | network.features.9.conv.2    | Conv2d           | 24 K  \n",
      "110 | network.features.9.conv.3    | BatchNorm2d      | 128   \n",
      "111 | network.features.10          | InvertedResidual | 54 K  \n",
      "112 | network.features.10.conv     | Sequential       | 54 K  \n",
      "113 | network.features.10.conv.0   | ConvBNReLU       | 25 K  \n",
      "114 | network.features.10.conv.0.0 | Conv2d           | 24 K  \n",
      "115 | network.features.10.conv.0.1 | BatchNorm2d      | 768   \n",
      "116 | network.features.10.conv.0.2 | ReLU6            | 0     \n",
      "117 | network.features.10.conv.1   | ConvBNReLU       | 4 K   \n",
      "118 | network.features.10.conv.1.0 | Conv2d           | 3 K   \n",
      "119 | network.features.10.conv.1.1 | BatchNorm2d      | 768   \n",
      "120 | network.features.10.conv.1.2 | ReLU6            | 0     \n",
      "121 | network.features.10.conv.2   | Conv2d           | 24 K  \n",
      "122 | network.features.10.conv.3   | BatchNorm2d      | 128   \n",
      "123 | network.features.11          | InvertedResidual | 66 K  \n",
      "124 | network.features.11.conv     | Sequential       | 66 K  \n",
      "125 | network.features.11.conv.0   | ConvBNReLU       | 25 K  \n",
      "126 | network.features.11.conv.0.0 | Conv2d           | 24 K  \n",
      "127 | network.features.11.conv.0.1 | BatchNorm2d      | 768   \n",
      "128 | network.features.11.conv.0.2 | ReLU6            | 0     \n",
      "129 | network.features.11.conv.1   | ConvBNReLU       | 4 K   \n",
      "130 | network.features.11.conv.1.0 | Conv2d           | 3 K   \n",
      "131 | network.features.11.conv.1.1 | BatchNorm2d      | 768   \n",
      "132 | network.features.11.conv.1.2 | ReLU6            | 0     \n",
      "133 | network.features.11.conv.2   | Conv2d           | 36 K  \n",
      "134 | network.features.11.conv.3   | BatchNorm2d      | 192   \n",
      "135 | network.features.12          | InvertedResidual | 118 K \n",
      "136 | network.features.12.conv     | Sequential       | 118 K \n",
      "137 | network.features.12.conv.0   | ConvBNReLU       | 56 K  \n",
      "138 | network.features.12.conv.0.0 | Conv2d           | 55 K  \n",
      "139 | network.features.12.conv.0.1 | BatchNorm2d      | 1 K   \n",
      "140 | network.features.12.conv.0.2 | ReLU6            | 0     \n",
      "141 | network.features.12.conv.1   | ConvBNReLU       | 6 K   \n",
      "142 | network.features.12.conv.1.0 | Conv2d           | 5 K   \n",
      "143 | network.features.12.conv.1.1 | BatchNorm2d      | 1 K   \n",
      "144 | network.features.12.conv.1.2 | ReLU6            | 0     \n",
      "145 | network.features.12.conv.2   | Conv2d           | 55 K  \n",
      "146 | network.features.12.conv.3   | BatchNorm2d      | 192   \n",
      "147 | network.features.13          | InvertedResidual | 118 K \n",
      "148 | network.features.13.conv     | Sequential       | 118 K \n",
      "149 | network.features.13.conv.0   | ConvBNReLU       | 56 K  \n",
      "150 | network.features.13.conv.0.0 | Conv2d           | 55 K  \n",
      "151 | network.features.13.conv.0.1 | BatchNorm2d      | 1 K   \n",
      "152 | network.features.13.conv.0.2 | ReLU6            | 0     \n",
      "153 | network.features.13.conv.1   | ConvBNReLU       | 6 K   \n",
      "154 | network.features.13.conv.1.0 | Conv2d           | 5 K   \n",
      "155 | network.features.13.conv.1.1 | BatchNorm2d      | 1 K   \n",
      "156 | network.features.13.conv.1.2 | ReLU6            | 0     \n",
      "157 | network.features.13.conv.2   | Conv2d           | 55 K  \n",
      "158 | network.features.13.conv.3   | BatchNorm2d      | 192   \n",
      "159 | network.features.14          | InvertedResidual | 155 K \n",
      "160 | network.features.14.conv     | Sequential       | 155 K \n",
      "161 | network.features.14.conv.0   | ConvBNReLU       | 56 K  \n",
      "162 | network.features.14.conv.0.0 | Conv2d           | 55 K  \n",
      "163 | network.features.14.conv.0.1 | BatchNorm2d      | 1 K   \n",
      "164 | network.features.14.conv.0.2 | ReLU6            | 0     \n",
      "165 | network.features.14.conv.1   | ConvBNReLU       | 6 K   \n",
      "166 | network.features.14.conv.1.0 | Conv2d           | 5 K   \n",
      "167 | network.features.14.conv.1.1 | BatchNorm2d      | 1 K   \n",
      "168 | network.features.14.conv.1.2 | ReLU6            | 0     \n",
      "169 | network.features.14.conv.2   | Conv2d           | 92 K  \n",
      "170 | network.features.14.conv.3   | BatchNorm2d      | 320   \n",
      "171 | network.features.15          | InvertedResidual | 320 K \n",
      "172 | network.features.15.conv     | Sequential       | 320 K \n",
      "173 | network.features.15.conv.0   | ConvBNReLU       | 155 K \n",
      "174 | network.features.15.conv.0.0 | Conv2d           | 153 K \n",
      "175 | network.features.15.conv.0.1 | BatchNorm2d      | 1 K   \n",
      "176 | network.features.15.conv.0.2 | ReLU6            | 0     \n",
      "177 | network.features.15.conv.1   | ConvBNReLU       | 10 K  \n",
      "178 | network.features.15.conv.1.0 | Conv2d           | 8 K   \n",
      "179 | network.features.15.conv.1.1 | BatchNorm2d      | 1 K   \n",
      "180 | network.features.15.conv.1.2 | ReLU6            | 0     \n",
      "181 | network.features.15.conv.2   | Conv2d           | 153 K \n",
      "182 | network.features.15.conv.3   | BatchNorm2d      | 320   \n",
      "183 | network.features.16          | InvertedResidual | 320 K \n",
      "184 | network.features.16.conv     | Sequential       | 320 K \n",
      "185 | network.features.16.conv.0   | ConvBNReLU       | 155 K \n",
      "186 | network.features.16.conv.0.0 | Conv2d           | 153 K \n",
      "187 | network.features.16.conv.0.1 | BatchNorm2d      | 1 K   \n",
      "188 | network.features.16.conv.0.2 | ReLU6            | 0     \n",
      "189 | network.features.16.conv.1   | ConvBNReLU       | 10 K  \n",
      "190 | network.features.16.conv.1.0 | Conv2d           | 8 K   \n",
      "191 | network.features.16.conv.1.1 | BatchNorm2d      | 1 K   \n",
      "192 | network.features.16.conv.1.2 | ReLU6            | 0     \n",
      "193 | network.features.16.conv.2   | Conv2d           | 153 K \n",
      "194 | network.features.16.conv.3   | BatchNorm2d      | 320   \n",
      "195 | network.features.17          | InvertedResidual | 473 K \n",
      "196 | network.features.17.conv     | Sequential       | 473 K \n",
      "197 | network.features.17.conv.0   | ConvBNReLU       | 155 K \n",
      "198 | network.features.17.conv.0.0 | Conv2d           | 153 K \n",
      "199 | network.features.17.conv.0.1 | BatchNorm2d      | 1 K   \n",
      "200 | network.features.17.conv.0.2 | ReLU6            | 0     \n",
      "201 | network.features.17.conv.1   | ConvBNReLU       | 10 K  \n",
      "202 | network.features.17.conv.1.0 | Conv2d           | 8 K   \n",
      "203 | network.features.17.conv.1.1 | BatchNorm2d      | 1 K   \n",
      "204 | network.features.17.conv.1.2 | ReLU6            | 0     \n",
      "205 | network.features.17.conv.2   | Conv2d           | 307 K \n",
      "206 | network.features.17.conv.3   | BatchNorm2d      | 640   \n",
      "207 | network.features.18          | ConvBNReLU       | 412 K \n",
      "208 | network.features.18.0        | Conv2d           | 409 K \n",
      "209 | network.features.18.1        | BatchNorm2d      | 2 K   \n",
      "210 | network.features.18.2        | ReLU6            | 0     \n",
      "211 | network.classifier           | Sequential       | 328 K \n",
      "212 | network.classifier.0         | Linear           | 327 K \n",
      "213 | network.classifier.1         | Tanh             | 0     \n",
      "214 | network.classifier.2         | Dropout          | 0     \n",
      "215 | network.classifier.3         | Linear           | 514   \n",
      "216 | network.classifier.4         | LogSoftmax       | 0     \n"
     ]
    },
    {
     "data": {
      "application/vnd.jupyter.widget-view+json": {
       "model_id": "",
       "version_major": 2,
       "version_minor": 0
      },
      "text/plain": [
       "HBox(children=(FloatProgress(value=1.0, bar_style='info', description='Validation sanity check', layout=Layout…"
      ]
     },
     "metadata": {},
     "output_type": "display_data"
    },
    {
     "name": "stderr",
     "output_type": "stream",
     "text": [
      "C:\\ProgramData\\Anaconda3\\lib\\site-packages\\torch\\nn\\modules\\container.py:100: UserWarning: Implicit dimension choice for log_softmax has been deprecated. Change the call to include dim=X as an argument.\n",
      "  input = module(input)\n"
     ]
    },
    {
     "data": {
      "application/vnd.jupyter.widget-view+json": {
       "model_id": "548d9f95ea74434386b59178d39b61c4",
       "version_major": 2,
       "version_minor": 0
      },
      "text/plain": [
       "HBox(children=(FloatProgress(value=1.0, bar_style='info', description='Training', layout=Layout(flex='2'), max…"
      ]
     },
     "metadata": {},
     "output_type": "display_data"
    },
    {
     "name": "stdout",
     "output_type": "stream",
     "text": [
      "Started training\n"
     ]
    },
    {
     "data": {
      "application/vnd.jupyter.widget-view+json": {
       "model_id": "",
       "version_major": 2,
       "version_minor": 0
      },
      "text/plain": [
       "HBox(children=(FloatProgress(value=1.0, bar_style='info', description='Validating', layout=Layout(flex='2'), m…"
      ]
     },
     "metadata": {},
     "output_type": "display_data"
    },
    {
     "name": "stdout",
     "output_type": "stream",
     "text": [
      "Validation is completed. Validation loss is 0.091\n",
      "Started training\n"
     ]
    },
    {
     "name": "stderr",
     "output_type": "stream",
     "text": [
      "C:\\ProgramData\\Anaconda3\\lib\\site-packages\\pytorch_lightning\\utilities\\distributed.py:23: UserWarning: Did not find hyperparameters at model hparams. Saving checkpoint without hyperparameters.\n",
      "  warnings.warn(*args, **kwargs)\n",
      "Detected KeyboardInterrupt, attempting graceful shutdown...\n"
     ]
    },
    {
     "name": "stdout",
     "output_type": "stream",
     "text": [
      "{'loss': tensor(0.6253, device='cuda:0'), 'train_loss': tensor(0.6253, device='cuda:0'), 'avg_val_loss': tensor(0.0396, device='cuda:0'), 'val_loss': tensor(0.0396, device='cuda:0'), 'epoch': 0}\n",
      "Training is done. Train loss: 0.145\n",
      "\n"
     ]
    },
    {
     "data": {
      "text/plain": [
       "1"
      ]
     },
     "execution_count": 24,
     "metadata": {},
     "output_type": "execute_result"
    }
   ],
   "source": [
    "model = LightningMaskDetector()\n",
    "\n",
    "trainer = pl.Trainer(gpus=1,max_epochs=10,callbacks=callbacks,checkpoint_callback=checkpoint_callback)\n",
    "trainer.fit(model)"
   ]
  },
  {
   "cell_type": "code",
   "execution_count": null,
   "metadata": {},
   "outputs": [],
   "source": [
    "%load_ext tensorboard\n",
    "%tensorboard --logdir lightning_logs/"
   ]
  },
  {
   "cell_type": "markdown",
   "metadata": {},
   "source": [
    "### Testing the lightning model"
   ]
  },
  {
   "cell_type": "code",
   "execution_count": null,
   "metadata": {},
   "outputs": [],
   "source": [
    "trainer.test()"
   ]
  },
  {
   "cell_type": "markdown",
   "metadata": {},
   "source": [
    "### Inferencing on a new image"
   ]
  },
  {
   "cell_type": "code",
   "execution_count": null,
   "metadata": {},
   "outputs": [],
   "source": [
    "img = cv2.imread('D:/Projects/Face recognition/050720_RW_Mass_General_159-1100x0-c-default.jpg')"
   ]
  },
  {
   "cell_type": "code",
   "execution_count": null,
   "metadata": {},
   "outputs": [],
   "source": [
    "plt.imshow(img)"
   ]
  },
  {
   "cell_type": "code",
   "execution_count": null,
   "metadata": {},
   "outputs": [],
   "source": [
    "trans = transforms.Compose([transforms.ToPILImage(),\n",
    "                            transforms.Resize((200,200)),\n",
    "                           transforms.ToTensor()])\n",
    "\n",
    "imgx = trans(img)\n",
    "imgx = imgx.unsqueeze(0)"
   ]
  },
  {
   "cell_type": "code",
   "execution_count": null,
   "metadata": {},
   "outputs": [],
   "source": [
    "imgx.shape"
   ]
  },
  {
   "cell_type": "code",
   "execution_count": null,
   "metadata": {},
   "outputs": [],
   "source": [
    "model_path = 'D:/Projects/Face recognition/Lightning_models/model_epoch=02-val_loss=0.09.ckpt'"
   ]
  },
  {
   "cell_type": "code",
   "execution_count": null,
   "metadata": {},
   "outputs": [],
   "source": [
    "model = LightningMaskDetector.load_from_checkpoint(model_path)\n",
    "\n",
    "out = model(imgx)"
   ]
  },
  {
   "cell_type": "code",
   "execution_count": null,
   "metadata": {},
   "outputs": [],
   "source": [
    "prob = torch.exp(out)"
   ]
  },
  {
   "cell_type": "code",
   "execution_count": null,
   "metadata": {},
   "outputs": [],
   "source": [
    "_, class_labels = torch.topk(prob, k=1, dim=1)"
   ]
  },
  {
   "cell_type": "code",
   "execution_count": null,
   "metadata": {},
   "outputs": [],
   "source": [
    "class_labels"
   ]
  }
 ],
 "metadata": {
  "kernelspec": {
   "display_name": "Python 3",
   "language": "python",
   "name": "python3"
  },
  "language_info": {
   "codemirror_mode": {
    "name": "ipython",
    "version": 3
   },
   "file_extension": ".py",
   "mimetype": "text/x-python",
   "name": "python",
   "nbconvert_exporter": "python",
   "pygments_lexer": "ipython3",
   "version": "3.7.4"
  }
 },
 "nbformat": 4,
 "nbformat_minor": 2
}
