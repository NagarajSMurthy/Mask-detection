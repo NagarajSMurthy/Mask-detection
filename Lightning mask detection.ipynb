{
 "cells": [
  {
   "cell_type": "code",
   "execution_count": null,
   "metadata": {},
   "outputs": [],
   "source": [
    "import numpy as np\n",
    "import pandas as pd"
   ]
  },
  {
   "cell_type": "code",
   "execution_count": null,
   "metadata": {},
   "outputs": [],
   "source": [
    "import cv2\n",
    "import os"
   ]
  },
  {
   "cell_type": "code",
   "execution_count": null,
   "metadata": {},
   "outputs": [],
   "source": [
    "import matplotlib.pyplot as plt\n",
    "%matplotlib inline"
   ]
  },
  {
   "cell_type": "code",
   "execution_count": null,
   "metadata": {},
   "outputs": [],
   "source": [
    "import torch\n",
    "from torch import nn, optim\n",
    "import torchvision\n",
    "from torchvision import transforms,datasets\n",
    "from torch.utils.data import DataLoader, Dataset, random_split\n",
    "import torch.nn.functional as F\n",
    "import pytorch_lightning as pl\n",
    "from argparse import ArgumentParser\n",
    "from pytorch_lightning.callbacks import ModelCheckpoint"
   ]
  },
  {
   "cell_type": "code",
   "execution_count": null,
   "metadata": {},
   "outputs": [],
   "source": [
    "root = 'D:/Projects/Face recognition/face_mask_data/data/'"
   ]
  },
  {
   "cell_type": "code",
   "execution_count": null,
   "metadata": {},
   "outputs": [],
   "source": [
    "class LightningMaskDetector(pl.LightningModule):\n",
    "    \n",
    "    def __init__(self):\n",
    "        super(LightningMaskDetector,self).__init__()\n",
    "        \n",
    "        #self.resnet = torchvision.models.resnet18(pretrained=True) \n",
    "        #self.resnet.fc = nn.Linear(512,128)\n",
    "        self.dropout = nn.Dropout(p=0.3)\n",
    "        self.network = torchvision.models.mobilenet_v2(pretrained=True)\n",
    "        child_counter = 0\n",
    "        for child in self.network.children():\n",
    "            for param in child.parameters():\n",
    "                param.requires_grad = False\n",
    "        self.network.classifier = torch.nn.Sequential(nn.Linear(1280,256),\n",
    "                                              nn.Tanh(),\n",
    "                                              nn.Dropout(p=0.25),\n",
    "                                              nn.Linear(256,2),\n",
    "                                              nn.LogSoftmax())\n",
    "        \n",
    "    def forward(self,x):\n",
    "\n",
    "        x = self.network(x)\n",
    "\n",
    "        return x\n",
    "    \n",
    "    '''\n",
    "    @staticmethod\n",
    "    def add_model_specific_args(parent_parser):\n",
    "        parser = ArgumentParser(parents=[parent_parser], add_help=False)\n",
    "        parser.add_argument('--batch_size', type=int, default=64)\n",
    "        parser.add_argument('--learning_rate', type=float, default=0.002)\n",
    "        return parser'''\n",
    "    \n",
    "    def prepare_data(self):\n",
    "        \n",
    "        transform = transforms.Compose([transforms.ToTensor()])\n",
    "        train_transform = transforms.Compose([transforms.RandomGrayscale(),\n",
    "                                transforms.RandomHorizontalFlip(),\n",
    "                                transforms.ColorJitter(brightness=(0.5,1.2)),\n",
    "                                transforms.ToTensor()\n",
    "                               ])\n",
    "        trainset = datasets.ImageFolder(root+'train',transform=train_transform)\n",
    "        self.testset = datasets.ImageFolder(root+'test',transform=transform)\n",
    "        self.trainset, self.validset = random_split(trainset,[1700,207])\n",
    "        \n",
    "    def train_dataloader(self):\n",
    "        \n",
    "        trainloader = DataLoader(self.trainset,batch_size=8)\n",
    "        return trainloader\n",
    "    \n",
    "    def val_dataloader(self):\n",
    "        \n",
    "        validloader = DataLoader(self.validset,batch_size=8)\n",
    "        return validloader\n",
    "        \n",
    "    def test_dataloader(self):\n",
    "        \n",
    "        testloader = DataLoader(self.testset,batch_size=8)\n",
    "        return testloader\n",
    "    \n",
    "    def configure_optimizers(self):\n",
    "        \n",
    "        optimizer = optim.Adam(self.parameters(),lr = 0.0001)\n",
    "        return optimizer\n",
    "    \n",
    "    def nllloss(self,logits,labels):\n",
    "        \n",
    "        return F.nll_loss(logits, labels)\n",
    "    \n",
    "    def training_step(self,batch,batch_idx):\n",
    "        \n",
    "        x, y = batch\n",
    "        logits = self.forward(x)\n",
    "        loss = self.nllloss(logits,y)\n",
    "        \n",
    "        logs = {'train_loss':loss}\n",
    "        output = {'loss':loss, 'log':logs}\n",
    "        return output\n",
    "        #return loss\n",
    "        \n",
    "    def validation_step(self,batch,batch_idx):\n",
    "        x, y = batch\n",
    "        logits = self.forward(x)\n",
    "        loss = self.nllloss(logits,y)\n",
    "        \n",
    "        output = {'val_loss':loss}\n",
    "        return output\n",
    "    \n",
    "    def validation_epoch_end(self, outputs):\n",
    "        \n",
    "        avg_loss = torch.stack([x['val_loss'] for x in outputs]).mean()\n",
    "        tensorboard_logs = {'val_loss': avg_loss}\n",
    "        output = {'avg_val_loss': avg_loss, 'log': tensorboard_logs}\n",
    "        return output\n",
    "    \n",
    "    def test_step(self, batch, batch_idx):\n",
    "        x, y = batch\n",
    "        logits = self.forward(x)\n",
    "        loss = self.nllloss(logits, y)\n",
    "        return {'test_loss': loss}\n",
    "        #return loss\n",
    "\n",
    "    def test_epoch_end(self, outputs):\n",
    "        avg_loss = torch.stack([x['test_loss'] for x in outputs]).mean()\n",
    "        tensorboard_logs = {'test_loss': avg_loss}\n",
    "        return {'test_loss': avg_loss, 'log': tensorboard_logs}\n",
    "        #return avg_loss\n"
   ]
  },
  {
   "cell_type": "code",
   "execution_count": null,
   "metadata": {},
   "outputs": [],
   "source": [
    "class print_loss(pl.callbacks.Callback):\n",
    "    \n",
    "    def on_init_start(self,trainer):\n",
    "        print('Starting to init trainer')\n",
    "        \n",
    "    def on_init_end(self,trainer):\n",
    "        print('trainer is init now')\n",
    "        \n",
    "    def on_epoch_start(self, trainer, pl_module):\n",
    "        print('Started training')\n",
    "        \n",
    "    def on_validation_end(self, trainer, pl_module):\n",
    "        out = trainer.progress_bar_dict['loss']\n",
    "        #print(out)\n",
    "        #loss = trainer.output['avg_val_loss']\n",
    "        #print(trainer.output['avg_val_loss'])\n",
    "        print(f\"Validation is completed. Validation loss is {out}\")\n",
    "\n",
    "        \n",
    "    def on_train_end(self, trainer, pl_module):\n",
    "        #print('Train loss:',self.outputs['loss'])\n",
    "        loss = trainer.progress_bar_dict['loss']\n",
    "        print(trainer.callback_metrics)\n",
    "        print(f\"Training is done. Train loss: {loss}\")\n",
    "        "
   ]
  },
  {
   "cell_type": "code",
   "execution_count": null,
   "metadata": {},
   "outputs": [],
   "source": [
    "checkpoint_callback = ModelCheckpoint(filepath='D:/Projects/Face recognition/model_{epoch:02d}-{val_loss:.2f}',\n",
    "                                      save_weights_only=False,\n",
    "                                      save_top_k=2)"
   ]
  },
  {
   "cell_type": "code",
   "execution_count": null,
   "metadata": {},
   "outputs": [],
   "source": [
    "callbacks = [print_loss()]"
   ]
  },
  {
   "cell_type": "markdown",
   "metadata": {},
   "source": [
    "### Training and validating"
   ]
  },
  {
   "cell_type": "code",
   "execution_count": null,
   "metadata": {},
   "outputs": [],
   "source": [
    "model = LightningMaskDetector()\n",
    "\n",
    "trainer = pl.Trainer(gpus=1,max_epochs=10,callbacks=callbacks,checkpoint_callback=checkpoint_callback)\n",
    "trainer.fit(model)"
   ]
  },
  {
   "cell_type": "code",
   "execution_count": null,
   "metadata": {},
   "outputs": [],
   "source": [
    "%load_ext tensorboard\n",
    "%tensorboard --logdir lightning_logs/"
   ]
  },
  {
   "cell_type": "markdown",
   "metadata": {},
   "source": [
    "### Testing the lightning model"
   ]
  },
  {
   "cell_type": "code",
   "execution_count": null,
   "metadata": {},
   "outputs": [],
   "source": [
    "trainer.test()"
   ]
  },
  {
   "cell_type": "markdown",
   "metadata": {},
   "source": [
    "### Inferencing on a new image"
   ]
  },
  {
   "cell_type": "code",
   "execution_count": null,
   "metadata": {},
   "outputs": [],
   "source": [
    "img = cv2.imread('D:/Projects/Face recognition/050720_RW_Mass_General_159-1100x0-c-default.jpg')"
   ]
  },
  {
   "cell_type": "code",
   "execution_count": null,
   "metadata": {},
   "outputs": [],
   "source": [
    "plt.imshow(img)"
   ]
  },
  {
   "cell_type": "code",
   "execution_count": null,
   "metadata": {},
   "outputs": [],
   "source": [
    "trans = transforms.Compose([transforms.ToPILImage(),\n",
    "                            transforms.Resize((200,200)),\n",
    "                           transforms.ToTensor()])\n",
    "\n",
    "imgx = trans(img)\n",
    "imgx = imgx.unsqueeze(0)"
   ]
  },
  {
   "cell_type": "code",
   "execution_count": null,
   "metadata": {},
   "outputs": [],
   "source": [
    "imgx.shape"
   ]
  },
  {
   "cell_type": "code",
   "execution_count": null,
   "metadata": {},
   "outputs": [],
   "source": [
    "model_path = 'D:/Projects/Face recognition/Lightning_models/model_epoch=02-val_loss=0.09.ckpt'"
   ]
  },
  {
   "cell_type": "code",
   "execution_count": null,
   "metadata": {},
   "outputs": [],
   "source": [
    "model = LightningMaskDetector.load_from_checkpoint(model_path)\n",
    "\n",
    "out = model(imgx)"
   ]
  },
  {
   "cell_type": "code",
   "execution_count": null,
   "metadata": {},
   "outputs": [],
   "source": [
    "prob = torch.exp(out)"
   ]
  },
  {
   "cell_type": "code",
   "execution_count": null,
   "metadata": {},
   "outputs": [],
   "source": [
    "_, class_labels = torch.topk(prob, k=1, dim=1)"
   ]
  },
  {
   "cell_type": "code",
   "execution_count": null,
   "metadata": {},
   "outputs": [],
   "source": [
    "class_labels"
   ]
  }
 ],
 "metadata": {
  "kernelspec": {
   "display_name": "Python 3",
   "language": "python",
   "name": "python3"
  },
  "language_info": {
   "codemirror_mode": {
    "name": "ipython",
    "version": 3
   },
   "file_extension": ".py",
   "mimetype": "text/x-python",
   "name": "python",
   "nbconvert_exporter": "python",
   "pygments_lexer": "ipython3",
   "version": "3.7.4"
  }
 },
 "nbformat": 4,
 "nbformat_minor": 2
}
